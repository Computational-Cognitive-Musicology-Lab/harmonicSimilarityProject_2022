{
 "cells": [
  {
   "cell_type": "code",
   "execution_count": 1,
   "id": "079d70f5",
   "metadata": {},
   "outputs": [],
   "source": [
    "import pandas as pd\n",
    "import numpy as np\n",
    "import copy\n",
    "from functools import reduce\n",
    "import seaborn as sns\n",
    "import matplotlib.pyplot as plt\n",
    "%matplotlib inline"
   ]
  },
  {
   "cell_type": "code",
   "execution_count": 2,
   "id": "ce0a5d5a",
   "metadata": {},
   "outputs": [],
   "source": [
    "file = pd.read_excel('CPSI.xlsx')\n",
    "df = pd.DataFrame(file)"
   ]
  },
  {
   "cell_type": "code",
   "execution_count": 3,
   "id": "345e1d4b",
   "metadata": {},
   "outputs": [
    {
     "name": "stdout",
     "output_type": "stream",
     "text": [
      "<class 'pandas.core.frame.DataFrame'>\n",
      "RangeIndex: 372 entries, 0 to 371\n",
      "Data columns (total 22 columns):\n",
      " #   Column      Non-Null Count  Dtype  \n",
      "---  ------      --------------  -----  \n",
      " 0   index       372 non-null    int64  \n",
      " 1   2012verse   372 non-null    float64\n",
      " 2   2012chorus  372 non-null    float64\n",
      " 3   2013verse   360 non-null    float64\n",
      " 4   2013chorus  360 non-null    float64\n",
      " 5   2014verse   360 non-null    float64\n",
      " 6   2014chorus  360 non-null    float64\n",
      " 7   2015verse   360 non-null    float64\n",
      " 8   2015chorus  360 non-null    float64\n",
      " 9   2016verse   360 non-null    float64\n",
      " 10  2016chorus  360 non-null    float64\n",
      " 11  2017verse   360 non-null    float64\n",
      " 12  2017chorus  360 non-null    float64\n",
      " 13  2018verse   360 non-null    float64\n",
      " 14  2018chorus  360 non-null    float64\n",
      " 15  2019verse   360 non-null    float64\n",
      " 16  2019chorus  360 non-null    float64\n",
      " 17  2020verse   360 non-null    float64\n",
      " 18  2020chorus  360 non-null    float64\n",
      " 19  2021verse   372 non-null    float64\n",
      " 20  2021chorus  372 non-null    float64\n",
      " 21  version     372 non-null    object \n",
      "dtypes: float64(20), int64(1), object(1)\n",
      "memory usage: 64.1+ KB\n"
     ]
    }
   ],
   "source": [
    "df.info()"
   ]
  },
  {
   "cell_type": "code",
   "execution_count": 4,
   "id": "39b0a7b2",
   "metadata": {},
   "outputs": [
    {
     "name": "stdout",
     "output_type": "stream",
     "text": [
      "<class 'pandas.core.frame.DataFrame'>\n",
      "Int64Index: 7248 entries, 0 to 7439\n",
      "Data columns (total 5 columns):\n",
      " #   Column   Non-Null Count  Dtype  \n",
      "---  ------   --------------  -----  \n",
      " 0   index    7248 non-null   int64  \n",
      " 1   CPSI     7248 non-null   float64\n",
      " 2   version  7248 non-null   object \n",
      " 3   year     7248 non-null   int64  \n",
      " 4   type     7248 non-null   object \n",
      "dtypes: float64(1), int64(2), object(2)\n",
      "memory usage: 339.8+ KB\n"
     ]
    },
    {
     "name": "stderr",
     "output_type": "stream",
     "text": [
      "C:\\Users\\20162\\AppData\\Local\\Temp/ipykernel_9040/577312131.py:5: SettingWithCopyWarning: \n",
      "A value is trying to be set on a copy of a slice from a DataFrame.\n",
      "Try using .loc[row_indexer,col_indexer] = value instead\n",
      "\n",
      "See the caveats in the documentation: https://pandas.pydata.org/pandas-docs/stable/user_guide/indexing.html#returning-a-view-versus-a-copy\n",
      "  df_verse[\"year\"] = i\n",
      "C:\\Users\\20162\\AppData\\Local\\Temp/ipykernel_9040/577312131.py:6: SettingWithCopyWarning: \n",
      "A value is trying to be set on a copy of a slice from a DataFrame.\n",
      "Try using .loc[row_indexer,col_indexer] = value instead\n",
      "\n",
      "See the caveats in the documentation: https://pandas.pydata.org/pandas-docs/stable/user_guide/indexing.html#returning-a-view-versus-a-copy\n",
      "  df_verse[\"type\"] = \"verse\"\n",
      "C:\\Users\\20162\\AppData\\Local\\Temp/ipykernel_9040/577312131.py:10: SettingWithCopyWarning: \n",
      "A value is trying to be set on a copy of a slice from a DataFrame.\n",
      "Try using .loc[row_indexer,col_indexer] = value instead\n",
      "\n",
      "See the caveats in the documentation: https://pandas.pydata.org/pandas-docs/stable/user_guide/indexing.html#returning-a-view-versus-a-copy\n",
      "  df_chorus[\"year\"] = i\n",
      "C:\\Users\\20162\\AppData\\Local\\Temp/ipykernel_9040/577312131.py:11: SettingWithCopyWarning: \n",
      "A value is trying to be set on a copy of a slice from a DataFrame.\n",
      "Try using .loc[row_indexer,col_indexer] = value instead\n",
      "\n",
      "See the caveats in the documentation: https://pandas.pydata.org/pandas-docs/stable/user_guide/indexing.html#returning-a-view-versus-a-copy\n",
      "  df_chorus[\"type\"] = \"chorus\"\n"
     ]
    }
   ],
   "source": [
    "df_list = []\n",
    "for i in range(2012,2022):\n",
    "    df_verse = df[[\"index\",str(i)+\"verse\",\"version\"]]\n",
    "    df_verse.columns = [\"index\",\"CPSI\",\"version\"]\n",
    "    df_verse[\"year\"] = i\n",
    "    df_verse[\"type\"] = \"verse\"\n",
    "    df_list.append(df_verse)\n",
    "    df_chorus = df[[\"index\",str(i)+\"chorus\",\"version\"]]\n",
    "    df_chorus.columns = [\"index\",\"CPSI\",\"version\"]\n",
    "    df_chorus[\"year\"] = i\n",
    "    df_chorus[\"type\"] = \"chorus\"\n",
    "    df_list.append(df_chorus)\n",
    "dfnew = reduce(lambda x, y: pd.merge(x, y,how='outer'), df_list)\n",
    "dfnew = dfnew.dropna()\n",
    "dfnew.info()"
   ]
  },
  {
   "cell_type": "code",
   "execution_count": 5,
   "id": "da7b77c5",
   "metadata": {},
   "outputs": [],
   "source": [
    "dfnew.to_csv(\"CPSI_data.csv\",index = False)"
   ]
  },
  {
   "cell_type": "code",
   "execution_count": null,
   "id": "9428c591",
   "metadata": {},
   "outputs": [],
   "source": []
  }
 ],
 "metadata": {
  "kernelspec": {
   "display_name": "Python 3 (ipykernel)",
   "language": "python",
   "name": "python3"
  },
  "language_info": {
   "codemirror_mode": {
    "name": "ipython",
    "version": 3
   },
   "file_extension": ".py",
   "mimetype": "text/x-python",
   "name": "python",
   "nbconvert_exporter": "python",
   "pygments_lexer": "ipython3",
   "version": "3.9.7"
  }
 },
 "nbformat": 4,
 "nbformat_minor": 5
}
