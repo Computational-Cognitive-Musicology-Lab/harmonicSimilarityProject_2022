{
 "cells": [
  {
   "cell_type": "code",
   "execution_count": 1,
   "id": "506610ee",
   "metadata": {},
   "outputs": [],
   "source": [
    "from musicpy import *"
   ]
  },
  {
   "cell_type": "markdown",
   "id": "bd1bbba6",
   "metadata": {},
   "source": [
    "# ***40 pairs of chord progressions in total***"
   ]
  },
  {
   "cell_type": "markdown",
   "id": "6843b859",
   "metadata": {},
   "source": [
    "# Part 0: Calibration (6 pairs)\n",
    "The minimum (totally different chord progressions) and the maximum (exatly the same) similarity. Each pair will repeat twice."
   ]
  },
  {
   "cell_type": "markdown",
   "id": "0fcb103f",
   "metadata": {},
   "source": [
    "## Exactly Same (3 pairs)"
   ]
  },
  {
   "cell_type": "code",
   "execution_count": 51,
   "id": "857b45d6",
   "metadata": {},
   "outputs": [],
   "source": [
    "path = 'C:\\\\Users\\\\20162\\\\OneDrive\\\\桌面\\python\\\\wav\\\\Part_0\\\\Exactly_Same\\\\'"
   ]
  },
  {
   "cell_type": "markdown",
   "id": "37eec003",
   "metadata": {},
   "source": [
    "+ Pair 1\n",
    "    + C->Am->F->G\n",
    "    + C->Am->F->G"
   ]
  },
  {
   "cell_type": "code",
   "execution_count": 53,
   "id": "64efe331",
   "metadata": {},
   "outputs": [],
   "source": [
    "progression1 = (C('C',3)|C('Am',3)|C('F',3)|C('G',3))\n",
    "play(progression1, bpm=80, instrument=1)\n",
    "write(progression1,bpm=80,channel=0,name=path+'pair1-1.mid',instrument=1,save_as_file=True)"
   ]
  },
  {
   "cell_type": "markdown",
   "id": "30db9d83",
   "metadata": {},
   "source": [
    "+ Pair 2\n",
    "    + C->F->G->C\n",
    "    + C->F->G->C"
   ]
  },
  {
   "cell_type": "code",
   "execution_count": 55,
   "id": "1f570ba5",
   "metadata": {},
   "outputs": [],
   "source": [
    "progression1 = (C('C',3)|C('F',3)|C('G',3)|C('C',3))\n",
    "play(progression1, bpm=80, instrument=1)\n",
    "write(progression1,bpm=80,channel=0,name=path+'pair2-1.mid',instrument=1,save_as_file=True)"
   ]
  },
  {
   "cell_type": "markdown",
   "id": "3733956d",
   "metadata": {},
   "source": [
    "+ Pair 3\n",
    "    + Am->F->G->C\n",
    "    + Am->F->G->C"
   ]
  },
  {
   "cell_type": "code",
   "execution_count": 56,
   "id": "a9d659f9",
   "metadata": {},
   "outputs": [],
   "source": [
    "progression1 = (C('Am',3)|C('F',3)|C('G',3)|C('C',3))\n",
    "play(progression1, bpm=80, instrument=1)\n",
    "write(progression1,bpm=80,channel=0,name=path+'pair3-1.mid',instrument=1,save_as_file=True)"
   ]
  },
  {
   "cell_type": "markdown",
   "id": "6603313f",
   "metadata": {},
   "source": [
    "## Totally different (3 pairs)"
   ]
  },
  {
   "cell_type": "code",
   "execution_count": 58,
   "id": "1d61d4e4",
   "metadata": {},
   "outputs": [],
   "source": [
    "path = 'C:\\\\Users\\\\20162\\\\OneDrive\\\\桌面\\python\\\\wav\\\\Part_0\\\\Totally_Different\\\\'"
   ]
  },
  {
   "cell_type": "markdown",
   "id": "ccd2e86a",
   "metadata": {},
   "source": [
    "+ Pair 1\n",
    "    + C->Am->F->G\n",
    "    + Am->Em->Am->Em"
   ]
  },
  {
   "cell_type": "code",
   "execution_count": 59,
   "id": "46f372a4",
   "metadata": {},
   "outputs": [],
   "source": [
    "progression1 = (C('C',3)|C('Am',3)|C('F',3)|C('G',3))\n",
    "progression2 = (C('Am',3)|C('Em',3)|C('Am',3)|C('Em',3))\n",
    "write(progression1,bpm=80,channel=0,name=path+'pair1-1.mid',instrument=1,save_as_file=True)\n",
    "write(progression2,bpm=80,channel=0,name=path+'pair1-2.mid',instrument=1,save_as_file=True)"
   ]
  },
  {
   "cell_type": "markdown",
   "id": "d0a90c49",
   "metadata": {},
   "source": [
    "+ Pair 2\n",
    "    + C->Am->F->G\n",
    "    + Em->C->Dm->Em"
   ]
  },
  {
   "cell_type": "code",
   "execution_count": 60,
   "id": "a90a3c27",
   "metadata": {},
   "outputs": [],
   "source": [
    "progression1 = (C('C',3)|C('Am',3)|C('F',3)|C('G',3))\n",
    "progression2 = (C('Em',3)|C('C',3)|C('Dm',3)|C('Em',3))\n",
    "write(progression1,bpm=80,channel=0,name=path+'pair2-1.mid',instrument=1,save_as_file=True)\n",
    "write(progression2,bpm=80,channel=0,name=path+'pair2-2.mid',instrument=1,save_as_file=True)"
   ]
  },
  {
   "cell_type": "markdown",
   "id": "a3089854",
   "metadata": {},
   "source": [
    "+ Pair 3\n",
    "    + C->Am->F->G\n",
    "    + C->G->Em->C"
   ]
  },
  {
   "cell_type": "code",
   "execution_count": 61,
   "id": "f6329faa",
   "metadata": {},
   "outputs": [],
   "source": [
    "progression1 = (C('C',3)|C('Am',3)|C('F',3)|C('G',3))\n",
    "progression2 = (C('C',3)|C('G',3)|C('Em',3)|C('C',3))\n",
    "write(progression1,bpm=80,channel=0,name=path+'pair3-1.mid',instrument=1,save_as_file=True)\n",
    "write(progression2,bpm=80,channel=0,name=path+'pair3-2.mid',instrument=1,save_as_file=True)"
   ]
  },
  {
   "cell_type": "markdown",
   "id": "76171090",
   "metadata": {},
   "source": [
    "# Part 1: Length and Similarity (5 pairs)\n",
    "How similar between chord progressions with different length? Each pair will repeat twice."
   ]
  },
  {
   "cell_type": "code",
   "execution_count": 62,
   "id": "e92d6ef9",
   "metadata": {},
   "outputs": [],
   "source": [
    "path = 'C:\\\\Users\\\\20162\\\\OneDrive\\\\桌面\\python\\\\wav\\\\Part_1\\\\'"
   ]
  },
  {
   "cell_type": "markdown",
   "id": "4e9d9ae9",
   "metadata": {},
   "source": [
    "+ Pair 1\n",
    "    + C->Am->F->G\n",
    "    + C->Am->F->G->C"
   ]
  },
  {
   "cell_type": "code",
   "execution_count": 65,
   "id": "cd5ab6bd",
   "metadata": {},
   "outputs": [],
   "source": [
    "progression1 = (C('C',3)|C('Am',3)|C('F',3)|C('G',3))\n",
    "progression2 = (C('C',3)|C('Am',3)|C('F',3)|C('G',3)|C('C',3))\n",
    "write(progression1,bpm=80,channel=0,name=path+'pair1-1.mid',instrument=1,save_as_file=True)\n",
    "write(progression2,bpm=80,channel=0,name=path+'pair1-2.mid',instrument=1,save_as_file=True)"
   ]
  },
  {
   "cell_type": "markdown",
   "id": "65934536",
   "metadata": {},
   "source": [
    "+ Pair 2\n",
    "    + C->F->G->C\n",
    "    + C->F->G->Am->C"
   ]
  },
  {
   "cell_type": "code",
   "execution_count": 66,
   "id": "bff05223",
   "metadata": {},
   "outputs": [],
   "source": [
    "progression1 = (C('C',3)|C('F',3)|C('G',3)|C('C',3))\n",
    "progression2 = (C('C',3)|C('F',3)|C('G',3)|C('Am',3)|C('C',3))\n",
    "write(progression1,bpm=80,channel=0,name=path+'pair2-1.mid',instrument=1,save_as_file=True)\n",
    "write(progression2,bpm=80,channel=0,name=path+'pair2-2.mid',instrument=1,save_as_file=True)"
   ]
  },
  {
   "cell_type": "markdown",
   "id": "ba2bd99e",
   "metadata": {},
   "source": [
    "+ Pair 3\n",
    "    + F->G->Em->Am\n",
    "    + F->G->Em->Am->C"
   ]
  },
  {
   "cell_type": "code",
   "execution_count": 67,
   "id": "548a1e58",
   "metadata": {},
   "outputs": [],
   "source": [
    "progression1 = (C('F',3)|C('G',3)|C('Em',3)|C('Am',3))\n",
    "progression2 = (C('F',3)|C('G',3)|C('Em',3)|C('Am',3)|C('C',3))\n",
    "write(progression1,bpm=80,channel=0,name=path+'pair3-1.mid',instrument=1,save_as_file=True)\n",
    "write(progression2,bpm=80,channel=0,name=path+'pair3-2.mid',instrument=1,save_as_file=True)"
   ]
  },
  {
   "cell_type": "markdown",
   "id": "0bde80eb",
   "metadata": {},
   "source": [
    "+ Pair 4\n",
    "    + Am->F->G->C\n",
    "    + Am->F->G->C->Am"
   ]
  },
  {
   "cell_type": "code",
   "execution_count": 68,
   "id": "f9691e9b",
   "metadata": {},
   "outputs": [],
   "source": [
    "progression1 = (C('Am',3)|C('F',3)|C('G',3)|C('C',3))\n",
    "progression2 = (C('Am',3)|C('F',3)|C('G',3)|C('C',3)|C('Am',3))\n",
    "write(progression1,bpm=80,channel=0,name=path+'pair4-1.mid',instrument=1,save_as_file=True)\n",
    "write(progression2,bpm=80,channel=0,name=path+'pair4-2.mid',instrument=1,save_as_file=True)"
   ]
  },
  {
   "cell_type": "markdown",
   "id": "e34d3eb9",
   "metadata": {},
   "source": [
    "+ Pair 5\n",
    "    + C->Em->F->G\n",
    "    + C->Em->F->G->C"
   ]
  },
  {
   "cell_type": "code",
   "execution_count": 69,
   "id": "3dc4de89",
   "metadata": {},
   "outputs": [],
   "source": [
    "progression1 = (C('C',3)|C('Em',3)|C('F',3)|C('G',3))\n",
    "progression2 = (C('C',3)|C('Em',3)|C('F',3)|C('G',3)|C('C',3))\n",
    "write(progression1,bpm=80,channel=0,name=path+'pair5-1.mid',instrument=1,save_as_file=True)\n",
    "write(progression2,bpm=80,channel=0,name=path+'pair5-2.mid',instrument=1,save_as_file=True)"
   ]
  },
  {
   "cell_type": "markdown",
   "id": "2279d0fa",
   "metadata": {},
   "source": [
    "# Part 2: Order and Similarity (13 pairs)\n",
    "Will the similarity change if the order of chords in a chord progression changes? Each pair will repeat twice."
   ]
  },
  {
   "cell_type": "markdown",
   "id": "e84658a3",
   "metadata": {},
   "source": [
    "## Same Loop (6 pairs)"
   ]
  },
  {
   "cell_type": "code",
   "execution_count": 70,
   "id": "de082100",
   "metadata": {},
   "outputs": [],
   "source": [
    "path = 'C:\\\\Users\\\\20162\\\\OneDrive\\\\桌面\\python\\\\wav\\\\Part_2\\\\Same_Loop\\\\'"
   ]
  },
  {
   "cell_type": "markdown",
   "id": "a6b68975",
   "metadata": {},
   "source": [
    "+ Pair 1\n",
    "    + C->Am->F->G\n",
    "    + Am->F->G->C"
   ]
  },
  {
   "cell_type": "code",
   "execution_count": 71,
   "id": "e8b34032",
   "metadata": {},
   "outputs": [],
   "source": [
    "progression1 = (C('C',3)|C('Am',3)|C('F',3)|C('G',3))\n",
    "progression2 = (C('Am',3)|C('F',3)|C('G',3)|C('C',3))\n",
    "write(progression1,bpm=80,channel=0,name=path+'pair1-1.mid',instrument=1,save_as_file=True)\n",
    "write(progression2,bpm=80,channel=0,name=path+'pair1-2.mid',instrument=1,save_as_file=True)"
   ]
  },
  {
   "cell_type": "markdown",
   "id": "738e8d77",
   "metadata": {},
   "source": [
    "+ Pair 2\n",
    "    + C->Am->F->G\n",
    "    + F->G->C->Am"
   ]
  },
  {
   "cell_type": "code",
   "execution_count": 72,
   "id": "8e6bf32d",
   "metadata": {},
   "outputs": [],
   "source": [
    "progression1 = (C('C',3)|C('Am',3)|C('F',3)|C('G',3))\n",
    "progression2 = (C('F',3)|C('G',3)|C('C',3)|C('Am',3))\n",
    "write(progression1,bpm=80,channel=0,name=path+'pair2-1.mid',instrument=1,save_as_file=True)\n",
    "write(progression2,bpm=80,channel=0,name=path+'pair2-2.mid',instrument=1,save_as_file=True)"
   ]
  },
  {
   "cell_type": "markdown",
   "id": "a375a1f8",
   "metadata": {},
   "source": [
    "+ Pair 3\n",
    "    + C->Am->F->G\n",
    "    + G->C->Am->F"
   ]
  },
  {
   "cell_type": "code",
   "execution_count": 73,
   "id": "08ddd732",
   "metadata": {},
   "outputs": [],
   "source": [
    "progression1 = (C('C',3)|C('Am',3)|C('F',3)|C('G',3))\n",
    "progression2 = (C('G',3)|C('C',3)|C('Am',3)|C('F',3))\n",
    "write(progression1,bpm=80,channel=0,name=path+'pair3-1.mid',instrument=1,save_as_file=True)\n",
    "write(progression2,bpm=80,channel=0,name=path+'pair3-2.mid',instrument=1,save_as_file=True)"
   ]
  },
  {
   "cell_type": "markdown",
   "id": "d11910f2",
   "metadata": {},
   "source": [
    "+ Pair 4\n",
    "    + Am->F->G->C\n",
    "    + F->G->C->Am"
   ]
  },
  {
   "cell_type": "code",
   "execution_count": 74,
   "id": "1480f1e9",
   "metadata": {},
   "outputs": [],
   "source": [
    "progression1 = (C('Am',3)|C('F',3)|C('G',3)|C('C',3))\n",
    "progression2 = (C('F',3)|C('G',3)|C('C',3)|C('Am',3))\n",
    "write(progression1,bpm=80,channel=0,name=path+'pair4-1.mid',instrument=1,save_as_file=True)\n",
    "write(progression2,bpm=80,channel=0,name=path+'pair4-2.mid',instrument=1,save_as_file=True)"
   ]
  },
  {
   "cell_type": "markdown",
   "id": "250aff51",
   "metadata": {},
   "source": [
    "+ Pair 5\n",
    "    + Am->F->G->C\n",
    "    + G->C->Am->F"
   ]
  },
  {
   "cell_type": "code",
   "execution_count": 75,
   "id": "e8a3d312",
   "metadata": {},
   "outputs": [],
   "source": [
    "progression1 = (C('Am',3)|C('F',3)|C('G',3)|C('C',3))\n",
    "progression2 = (C('G',3)|C('C',3)|C('Am',3)|C('F',3))\n",
    "write(progression1,bpm=80,channel=0,name=path+'pair5-1.mid',instrument=1,save_as_file=True)\n",
    "write(progression2,bpm=80,channel=0,name=path+'pair5-2.mid',instrument=1,save_as_file=True)"
   ]
  },
  {
   "cell_type": "markdown",
   "id": "1a962b8f",
   "metadata": {},
   "source": [
    "+ Pair 6\n",
    "    + F->G->C->Am\n",
    "    + G->C->Am->F"
   ]
  },
  {
   "cell_type": "code",
   "execution_count": 76,
   "id": "aeb63825",
   "metadata": {},
   "outputs": [],
   "source": [
    "progression1 = (C('F',3)|C('G',3)|C('C',3)|C('Am',3))\n",
    "progression2 = (C('G',3)|C('C',3)|C('Am',3)|C('F',3))\n",
    "write(progression1,bpm=80,channel=0,name=path+'pair6-1.mid',instrument=1,save_as_file=True)\n",
    "write(progression2,bpm=80,channel=0,name=path+'pair6-2.mid',instrument=1,save_as_file=True)"
   ]
  },
  {
   "cell_type": "markdown",
   "id": "b0c4fdf2",
   "metadata": {},
   "source": [
    "## Different Loop (7 pairs)"
   ]
  },
  {
   "cell_type": "code",
   "execution_count": 77,
   "id": "05e43ef2",
   "metadata": {},
   "outputs": [],
   "source": [
    "path = 'C:\\\\Users\\\\20162\\\\OneDrive\\\\桌面\\python\\\\wav\\\\Part_2\\\\Different_Loop\\\\'"
   ]
  },
  {
   "cell_type": "markdown",
   "id": "8472fe9f",
   "metadata": {},
   "source": [
    "+ Pair 1\n",
    "    + C->Am->F->G\n",
    "    + Am->C->F->G"
   ]
  },
  {
   "cell_type": "code",
   "execution_count": 78,
   "id": "9aee19b7",
   "metadata": {},
   "outputs": [],
   "source": [
    "progression1 = (C('C',3)|C('Am',3)|C('F',3)|C('G',3))\n",
    "progression2 = (C('Am',3)|C('C',3)|C('F',3)|C('G',3))\n",
    "write(progression1,bpm=80,channel=0,name=path+'pair1-1.mid',instrument=1,save_as_file=True)\n",
    "write(progression2,bpm=80,channel=0,name=path+'pair1-2.mid',instrument=1,save_as_file=True)"
   ]
  },
  {
   "cell_type": "markdown",
   "id": "6d4d586d",
   "metadata": {},
   "source": [
    "+ Pair 2\n",
    "    + C->Am->F->G\n",
    "    + F->Am->C->G"
   ]
  },
  {
   "cell_type": "code",
   "execution_count": 79,
   "id": "b1e51fd1",
   "metadata": {},
   "outputs": [],
   "source": [
    "progression1 = (C('C',3)|C('Am',3)|C('F',3)|C('G',3))\n",
    "progression2 = (C('F',3)|C('Am',3)|C('C',3)|C('G',3))\n",
    "write(progression1,bpm=80,channel=0,name=path+'pair2-1.mid',instrument=1,save_as_file=True)\n",
    "write(progression2,bpm=80,channel=0,name=path+'pair2-2.mid',instrument=1,save_as_file=True)"
   ]
  },
  {
   "cell_type": "markdown",
   "id": "cffba065",
   "metadata": {},
   "source": [
    "+ Pair 3\n",
    "    + C->Am->F->G\n",
    "    + F->Am->C->G"
   ]
  },
  {
   "cell_type": "code",
   "execution_count": 80,
   "id": "7a3edb24",
   "metadata": {},
   "outputs": [],
   "source": [
    "progression1 = (C('C',3)|C('Am',3)|C('F',3)|C('G',3))\n",
    "progression2 = (C('F',3)|C('Am',3)|C('C',3)|C('G',3))\n",
    "write(progression1,bpm=80,channel=0,name=path+'pair3-1.mid',instrument=1,save_as_file=True)\n",
    "write(progression2,bpm=80,channel=0,name=path+'pair3-2.mid',instrument=1,save_as_file=True)"
   ]
  },
  {
   "cell_type": "markdown",
   "id": "67608c2c",
   "metadata": {},
   "source": [
    "+ Pair 4\n",
    "    + C->Am->F->G\n",
    "    + G->Am->F->C"
   ]
  },
  {
   "cell_type": "code",
   "execution_count": 81,
   "id": "cbea0d78",
   "metadata": {},
   "outputs": [],
   "source": [
    "progression1 = (C('C',3)|C('Am',3)|C('F',3)|C('G',3))\n",
    "progression2 = (C('G',3)|C('Am',3)|C('F',3)|C('C',3))\n",
    "write(progression1,bpm=80,channel=0,name=path+'pair4-1.mid',instrument=1,save_as_file=True)\n",
    "write(progression2,bpm=80,channel=0,name=path+'pair4-2.mid',instrument=1,save_as_file=True)"
   ]
  },
  {
   "cell_type": "markdown",
   "id": "c09a0f4c",
   "metadata": {},
   "source": [
    "+ Pair 5\n",
    "    + C->Am->F->G\n",
    "    + C->F->Am->G"
   ]
  },
  {
   "cell_type": "code",
   "execution_count": 82,
   "id": "d7388569",
   "metadata": {},
   "outputs": [],
   "source": [
    "progression1 = (C('C',3)|C('Am',3)|C('F',3)|C('G',3))\n",
    "progression2 = (C('C',3)|C('F',3)|C('Am',3)|C('G',3))\n",
    "write(progression1,bpm=80,channel=0,name=path+'pair5-1.mid',instrument=1,save_as_file=True)\n",
    "write(progression2,bpm=80,channel=0,name=path+'pair5-2.mid',instrument=1,save_as_file=True)"
   ]
  },
  {
   "cell_type": "markdown",
   "id": "987f7724",
   "metadata": {},
   "source": [
    "+ Pair 6\n",
    "    + C->Am->F->G\n",
    "    + C->G->F->Am"
   ]
  },
  {
   "cell_type": "code",
   "execution_count": 83,
   "id": "6ec96ad5",
   "metadata": {},
   "outputs": [],
   "source": [
    "progression1 = (C('C',3)|C('Am',3)|C('F',3)|C('G',3))\n",
    "progression2 = (C('C',3)|C('G',3)|C('F',3)|C('Am',3))\n",
    "write(progression1,bpm=80,channel=0,name=path+'pair6-1.mid',instrument=1,save_as_file=True)\n",
    "write(progression2,bpm=80,channel=0,name=path+'pair6-2.mid',instrument=1,save_as_file=True)"
   ]
  },
  {
   "cell_type": "markdown",
   "id": "f0588cd3",
   "metadata": {},
   "source": [
    "+ Pair 7\n",
    "    + C->Am->F->G\n",
    "    + C->Am->G->F"
   ]
  },
  {
   "cell_type": "code",
   "execution_count": 84,
   "id": "2490d0a1",
   "metadata": {},
   "outputs": [],
   "source": [
    "progression1 = (C('C',3)|C('Am',3)|C('F',3)|C('G',3))\n",
    "progression2 = (C('C',3)|C('Am',3)|C('G',3)|C('F',3))\n",
    "write(progression1,bpm=80,channel=0,name=path+'pair7-1.mid',instrument=1,save_as_file=True)\n",
    "write(progression2,bpm=80,channel=0,name=path+'pair7-2.mid',instrument=1,save_as_file=True)"
   ]
  },
  {
   "cell_type": "markdown",
   "id": "8f1bd8d2",
   "metadata": {},
   "source": [
    "# Part 3: Last Chord and Similarity (6 pairs)\n",
    "In many songs, the last chord in a chord progression changes. How does it influence the similarity? Each pair will repeat twice."
   ]
  },
  {
   "cell_type": "code",
   "execution_count": 85,
   "id": "0cd38916",
   "metadata": {},
   "outputs": [],
   "source": [
    "path = 'C:\\\\Users\\\\20162\\\\OneDrive\\\\桌面\\python\\\\wav\\\\Part_3\\\\'"
   ]
  },
  {
   "cell_type": "markdown",
   "id": "b40519a4",
   "metadata": {},
   "source": [
    "+ Pair 1:\n",
    "    + Am->F->G->Am, Am->F->G->Am\n",
    "    + Am->F->G->Am, Am->F->G->Em"
   ]
  },
  {
   "cell_type": "code",
   "execution_count": 86,
   "id": "5f939c4c",
   "metadata": {},
   "outputs": [],
   "source": [
    "progression1 = (C('Am',3)|C('F',3)|C('G',3)|C('Am',3)|C('Am',3)|C('F',3)|C('G',3)|C('Am',3))\n",
    "progression2 = (C('Am',3)|C('F',3)|C('G',3)|C('Am',3)|C('Am',3)|C('F',3)|C('G',3)|C('Em',3))\n",
    "write(progression1,bpm=80,channel=0,name=path+'pair1-1.mid',instrument=1,save_as_file=True)\n",
    "write(progression2,bpm=80,channel=0,name=path+'pair1-2.mid',instrument=1,save_as_file=True)"
   ]
  },
  {
   "cell_type": "markdown",
   "id": "868e7dfe",
   "metadata": {},
   "source": [
    "+ Pair 2:\n",
    "    + F->G->Am, F->G->Am\n",
    "    + F->G->Am, F->G->C"
   ]
  },
  {
   "cell_type": "code",
   "execution_count": 87,
   "id": "6c77012d",
   "metadata": {},
   "outputs": [],
   "source": [
    "progression1 = (C('F',3)|C('G',3)|C('Am',3)|C('F',3)|C('G',3)|C('Am',3))\n",
    "progression2 = (C('F',3)|C('G',3)|C('Am',3)|C('F',3)|C('G',3)|C('C',3))\n",
    "write(progression1,bpm=80,channel=0,name=path+'pair2-1.mid',instrument=1,save_as_file=True)\n",
    "write(progression2,bpm=80,channel=0,name=path+'pair2-2.mid',instrument=1,save_as_file=True)"
   ]
  },
  {
   "cell_type": "markdown",
   "id": "f2f60d3f",
   "metadata": {},
   "source": [
    "+ Pair 3:\n",
    "    + C->Dm->Bm->Em, C->Dm->Bm->Em\n",
    "    + C->Dm->Bm->Em, C->Dm->Bm->B"
   ]
  },
  {
   "cell_type": "code",
   "execution_count": 88,
   "id": "aa74d62c",
   "metadata": {},
   "outputs": [],
   "source": [
    "progression1 = (C('C',3)|C('Dm',3)|C('Bm',3)|C('Em',3)|C('C',3)|C('Dm',3)|C('Bm',3)|C('Em',3))\n",
    "progression2 = (C('C',3)|C('Dm',3)|C('Bm',3)|C('Em',3)|C('C',3)|C('Dm',3)|C('Bm',3)|C('B',3))\n",
    "write(progression1,bpm=80,channel=0,name=path+'pair3-1.mid',instrument=1,save_as_file=True)\n",
    "write(progression2,bpm=80,channel=0,name=path+'pair3-2.mid',instrument=1,save_as_file=True)"
   ]
  },
  {
   "cell_type": "markdown",
   "id": "68b56813",
   "metadata": {},
   "source": [
    "+ Pair 4:\n",
    "    + Am->Em->F->Em, Am->Em->F->Em\n",
    "    + Am->Em->F->Em, Am->Em->F->Am"
   ]
  },
  {
   "cell_type": "code",
   "execution_count": 89,
   "id": "94b71d53",
   "metadata": {},
   "outputs": [],
   "source": [
    "progression1 = (C('Am',3)|C('Em',3)|C('F',3)|C('Em',3)|C('Am',3)|C('Em',3)|C('F',3)|C('Em',3))\n",
    "progression2 = (C('Am',3)|C('Em',3)|C('F',3)|C('Em',3)|C('Am',3)|C('Em',3)|C('F',3)|C('Am',3))\n",
    "write(progression1,bpm=80,channel=0,name=path+'pair4-1.mid',instrument=1,save_as_file=True)\n",
    "write(progression2,bpm=80,channel=0,name=path+'pair4-2.mid',instrument=1,save_as_file=True)"
   ]
  },
  {
   "cell_type": "markdown",
   "id": "4cd1a57e",
   "metadata": {},
   "source": [
    "+ Pair 5:\n",
    "    + F->G->Em->Am, F->G->Em->Am\n",
    "    + F->G->Em->Am, F->G->Em->C"
   ]
  },
  {
   "cell_type": "code",
   "execution_count": 90,
   "id": "5dbdb266",
   "metadata": {},
   "outputs": [],
   "source": [
    "progression1 = (C('F',3)|C('G',3)|C('Em',3)|C('Am',3)|C('F',3)|C('G',3)|C('Em',3)|C('Am',3))\n",
    "progression2 = (C('F',3)|C('G',3)|C('Em',3)|C('Am',3)|C('F',3)|C('G',3)|C('Em',3)|C('C',3))\n",
    "write(progression1,bpm=80,channel=0,name=path+'pair5-1.mid',instrument=1,save_as_file=True)\n",
    "write(progression2,bpm=80,channel=0,name=path+'pair5-2.mid',instrument=1,save_as_file=True)"
   ]
  },
  {
   "cell_type": "markdown",
   "id": "4e50e138",
   "metadata": {},
   "source": [
    "+ Pair 6:\n",
    "    + C->G->Am->Em, C->G->Am->Em\n",
    "    + C->G->Am->Em, C->G->Am->C"
   ]
  },
  {
   "cell_type": "code",
   "execution_count": 91,
   "id": "577ad87e",
   "metadata": {},
   "outputs": [],
   "source": [
    "progression1 = (C('C',3)|C('G',3)|C('Am',3)|C('Em',3)|C('C',3)|C('G',3)|C('Am',3)|C('Em',3))\n",
    "progression2 = (C('C',3)|C('G',3)|C('Am',3)|C('Em',3)|C('C',3)|C('G',3)|C('Am',3)|C('C',3))\n",
    "write(progression1,bpm=80,channel=0,name=path+'pair6-1.mid',instrument=1,save_as_file=True)\n",
    "write(progression2,bpm=80,channel=0,name=path+'pair6-2.mid',instrument=1,save_as_file=True)"
   ]
  },
  {
   "cell_type": "markdown",
   "id": "63dd14e1",
   "metadata": {},
   "source": [
    "# Part 4: Types and Similarity (10 pairs)\n",
    "How will chord types influence the perception of similarity? Each pair will repeat twice."
   ]
  },
  {
   "cell_type": "markdown",
   "id": "8e61a5f3",
   "metadata": {},
   "source": [
    "## Triads and Seventh Chord (5 pairs)"
   ]
  },
  {
   "cell_type": "code",
   "execution_count": 92,
   "id": "99bc3bb2",
   "metadata": {},
   "outputs": [],
   "source": [
    "path = 'C:\\\\Users\\\\20162\\\\OneDrive\\\\桌面\\python\\\\wav\\\\Part_4\\\\Triads_Seventh\\\\'"
   ]
  },
  {
   "cell_type": "markdown",
   "id": "ebf84662",
   "metadata": {},
   "source": [
    "+ Pair 1: \n",
    "    + F->G->Em->Am\n",
    "    + F->G->Em7->Am"
   ]
  },
  {
   "cell_type": "code",
   "execution_count": 93,
   "id": "0f5fc6b8",
   "metadata": {},
   "outputs": [],
   "source": [
    "progression1 = (C('F',3)|C('G',3)|C('Em',3)|C('Am',3))\n",
    "progression2 = (C('F',3)|C('G',3)|C('Em7',3)|C('Am',3))\n",
    "write(progression1,bpm=80,channel=0,name=path+'pair1-1.mid',instrument=1,save_as_file=True)\n",
    "write(progression2,bpm=80,channel=0,name=path+'pair1-2.mid',instrument=1,save_as_file=True)"
   ]
  },
  {
   "cell_type": "markdown",
   "id": "9ca82dd3",
   "metadata": {},
   "source": [
    "+ Pair 2:\n",
    "    + F->G->Em->Am\n",
    "    + F->G->Em->Am7"
   ]
  },
  {
   "cell_type": "code",
   "execution_count": 94,
   "id": "df724d19",
   "metadata": {},
   "outputs": [],
   "source": [
    "progression1 = (C('F',3)|C('G',3)|C('Em',3)|C('Am',3))\n",
    "progression2 = (C('F',3)|C('G',3)|C('Em',3)|C('Am7',3))\n",
    "write(progression1,bpm=80,channel=0,name=path+'pair2-1.mid',instrument=1,save_as_file=True)\n",
    "write(progression2,bpm=80,channel=0,name=path+'pair2-2.mid',instrument=1,save_as_file=True)"
   ]
  },
  {
   "cell_type": "markdown",
   "id": "4643db5b",
   "metadata": {},
   "source": [
    "+ Pair 3:\n",
    "    + F->G->Em->Am\n",
    "    + F->G7->Em->Am"
   ]
  },
  {
   "cell_type": "code",
   "execution_count": 95,
   "id": "c0ba631d",
   "metadata": {},
   "outputs": [],
   "source": [
    "progression1 = (C('F',3)|C('G',3)|C('Em',3)|C('Am',3))\n",
    "progression2 = (C('F',3)|C('G7',3)|C('Em',3)|C('Am',3))\n",
    "write(progression1,bpm=80,channel=0,name=path+'pair3-1.mid',instrument=1,save_as_file=True)\n",
    "write(progression2,bpm=80,channel=0,name=path+'pair3-2.mid',instrument=1,save_as_file=True)"
   ]
  },
  {
   "cell_type": "markdown",
   "id": "b011723e",
   "metadata": {},
   "source": [
    "+ Pair 4:\n",
    "    + F->G->Em->Am\n",
    "    + Fmaj7->G->Em->Am"
   ]
  },
  {
   "cell_type": "code",
   "execution_count": 96,
   "id": "db0fbcf7",
   "metadata": {},
   "outputs": [],
   "source": [
    "progression1 = (C('F',3)|C('G',3)|C('Em',3)|C('Am',3))\n",
    "progression2 = (C('Fmaj7',3)|C('G',3)|C('Em',3)|C('Am',3))\n",
    "write(progression1,bpm=80,channel=0,name=path+'pair4-1.mid',instrument=1,save_as_file=True)\n",
    "write(progression2,bpm=80,channel=0,name=path+'pair4-2.mid',instrument=1,save_as_file=True)"
   ]
  },
  {
   "cell_type": "markdown",
   "id": "69d48101",
   "metadata": {},
   "source": [
    "+ Pair 5:\n",
    "    + F->G->Em->Am\n",
    "    + Fmaj7->G7->Em7->Am7"
   ]
  },
  {
   "cell_type": "code",
   "execution_count": 97,
   "id": "790a350e",
   "metadata": {},
   "outputs": [],
   "source": [
    "progression1 = (C('F',3)|C('G',3)|C('Em',3)|C('Am',3))\n",
    "progression2 = (C('Fmaj7',3)|C('G7',3)|C('Em7',3)|C('Am7',3))\n",
    "write(progression1,bpm=80,channel=0,name=path+'pair5-1.mid',instrument=1,save_as_file=True)\n",
    "write(progression2,bpm=80,channel=0,name=path+'pair5-2.mid',instrument=1,save_as_file=True)"
   ]
  },
  {
   "cell_type": "markdown",
   "id": "cd5ead7f",
   "metadata": {},
   "source": [
    "## Triads and Ninth Chord (5 pairs)"
   ]
  },
  {
   "cell_type": "code",
   "execution_count": 98,
   "id": "7cf971d2",
   "metadata": {},
   "outputs": [],
   "source": [
    "path = 'C:\\\\Users\\\\20162\\\\OneDrive\\\\桌面\\python\\\\wav\\\\Part_4\\\\Triads_Ninth\\\\'"
   ]
  },
  {
   "cell_type": "markdown",
   "id": "bdedb6a3",
   "metadata": {},
   "source": [
    "+ Pair 1: \n",
    "    + F->G->Em->Am\n",
    "    + F9->G->Em->Am"
   ]
  },
  {
   "cell_type": "code",
   "execution_count": 100,
   "id": "4ac2abbb",
   "metadata": {},
   "outputs": [],
   "source": [
    "progression1 = (C('F',3)|C('G',3)|C('Em',3)|C('Am',3))\n",
    "progression2 = (C('F9',3)|C('G',3)|C('Em',3)|C('Am',3))\n",
    "write(progression1,bpm=80,channel=0,name=path+'pair1-1.mid',instrument=1,save_as_file=True)\n",
    "write(progression2,bpm=80,channel=0,name=path+'pair1-2.mid',instrument=1,save_as_file=True)"
   ]
  },
  {
   "cell_type": "markdown",
   "id": "301563b0",
   "metadata": {},
   "source": [
    "+ Pair 2:\n",
    "    + F->G->Em->Am\n",
    "    + F->G9->Em->Am"
   ]
  },
  {
   "cell_type": "code",
   "execution_count": 101,
   "id": "214db052",
   "metadata": {},
   "outputs": [],
   "source": [
    "progression1 = (C('F',3)|C('G',3)|C('Em',3)|C('Am',3))\n",
    "progression2 = (C('F',3)|C('G9',3)|C('Em',3)|C('Am',3))\n",
    "write(progression1,bpm=80,channel=0,name=path+'pair2-1.mid',instrument=1,save_as_file=True)\n",
    "write(progression2,bpm=80,channel=0,name=path+'pair2-2.mid',instrument=1,save_as_file=True)"
   ]
  },
  {
   "cell_type": "markdown",
   "id": "f8e75385",
   "metadata": {},
   "source": [
    "+ Pair 3:\n",
    "    + F->G->Em->Am\n",
    "    + F->G->Em9->Am"
   ]
  },
  {
   "cell_type": "code",
   "execution_count": 102,
   "id": "d93fcf56",
   "metadata": {},
   "outputs": [],
   "source": [
    "progression1 = (C('F',3)|C('G',3)|C('Em',3)|C('Am',3))\n",
    "progression2 = (C('F',3)|C('G',3)|C('Em9',3)|C('Am',3))\n",
    "write(progression1,bpm=80,channel=0,name=path+'pair3-1.mid',instrument=1,save_as_file=True)\n",
    "write(progression2,bpm=80,channel=0,name=path+'pair3-2.mid',instrument=1,save_as_file=True)"
   ]
  },
  {
   "cell_type": "markdown",
   "id": "fd1cf3af",
   "metadata": {},
   "source": [
    "+ Pair 4:\n",
    "    + F->G->Em->Am\n",
    "    + F->G->Em->Am9"
   ]
  },
  {
   "cell_type": "code",
   "execution_count": 103,
   "id": "8148d7e4",
   "metadata": {},
   "outputs": [],
   "source": [
    "progression1 = (C('F',3)|C('G',3)|C('Em',3)|C('Am',3))\n",
    "progression2 = (C('F',3)|C('G',3)|C('Em',3)|C('Am9',3))\n",
    "write(progression1,bpm=80,channel=0,name=path+'pair4-1.mid',instrument=1,save_as_file=True)\n",
    "write(progression2,bpm=80,channel=0,name=path+'pair4-2.mid',instrument=1,save_as_file=True)"
   ]
  },
  {
   "cell_type": "markdown",
   "id": "00d8db75",
   "metadata": {},
   "source": [
    "+ Pair 5:\n",
    "    + F->G->Em->Am\n",
    "    + F9->G9->Em9->Am9"
   ]
  },
  {
   "cell_type": "code",
   "execution_count": 104,
   "id": "c3446719",
   "metadata": {},
   "outputs": [],
   "source": [
    "progression1 = (C('F',3)|C('G',3)|C('Em',3)|C('Am',3))\n",
    "progression2 = (C('F9',3)|C('G9',3)|C('Em9',3)|C('Am9',3))\n",
    "write(progression1,bpm=80,channel=0,name=path+'pair5-1.mid',instrument=1,save_as_file=True)\n",
    "write(progression2,bpm=80,channel=0,name=path+'pair5-2.mid',instrument=1,save_as_file=True)"
   ]
  },
  {
   "cell_type": "code",
   "execution_count": null,
   "id": "dfa70ebc",
   "metadata": {},
   "outputs": [],
   "source": []
  }
 ],
 "metadata": {
  "kernelspec": {
   "display_name": "Python 3 (ipykernel)",
   "language": "python",
   "name": "python3"
  },
  "language_info": {
   "codemirror_mode": {
    "name": "ipython",
    "version": 3
   },
   "file_extension": ".py",
   "mimetype": "text/x-python",
   "name": "python",
   "nbconvert_exporter": "python",
   "pygments_lexer": "ipython3",
   "version": "3.9.7"
  }
 },
 "nbformat": 4,
 "nbformat_minor": 5
}
